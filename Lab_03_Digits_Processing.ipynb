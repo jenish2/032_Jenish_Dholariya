{
  "nbformat": 4,
  "nbformat_minor": 0,
  "metadata": {
    "colab": {
      "name": "Lab_03_digits_Processing.ipynb",
      "provenance": [],
      "authorship_tag": "ABX9TyM4ozh6zdhSiRPgyXA14PGI",
      "include_colab_link": true
    },
    "kernelspec": {
      "name": "python3",
      "display_name": "Python 3"
    },
    "language_info": {
      "name": "python"
    }
  },
  "cells": [
    {
      "cell_type": "markdown",
      "metadata": {
        "id": "view-in-github",
        "colab_type": "text"
      },
      "source": [
        "<a href=\"https://colab.research.google.com/github/jenish2/032_Jenish_Dholariya/blob/main/Lab_03_Digits_Processing.ipynb\" target=\"_parent\"><img src=\"https://colab.research.google.com/assets/colab-badge.svg\" alt=\"Open In Colab\"/></a>"
      ]
    },
    {
      "cell_type": "code",
      "metadata": {
        "id": "k7TQDbv5jZQ3",
        "outputId": "605a2f6a-79b0-42a8-bfb7-5e061d2bbe7f",
        "colab": {
          "base_uri": "https://localhost:8080/"
        }
      },
      "source": [
        "from google.colab import drive\n",
        "drive.mount(\"/content/drive\")"
      ],
      "execution_count": 2,
      "outputs": [
        {
          "output_type": "stream",
          "name": "stdout",
          "text": [
            "Mounted at /content/drive\n"
          ]
        }
      ]
    },
    {
      "cell_type": "code",
      "metadata": {
        "id": "yMeC-KDmqZE6"
      },
      "source": [
        "# Importing needful libraries\n",
        "\n",
        "import numpy as np\n",
        "import pandas as pd\n",
        "import matplotlib.pyplot as plt\n",
        "from sklearn import datasets, preprocessing\n",
        "\n",
        "# naive and gaussian model\n",
        "from sklearn.naive_bayes import GaussianNB, MultinomialNB\n",
        "from sklearn.model_selection import train_test_split\n",
        "\n",
        "# for accuracy\n",
        "from sklearn import metrics\n",
        "\n",
        "# print precision and recall\n",
        "from sklearn.metrics import precision_score\n",
        "from sklearn.metrics import recall_score\n",
        "from sklearn.datasets import load_digits"
      ],
      "execution_count": 3,
      "outputs": []
    },
    {
      "cell_type": "code",
      "metadata": {
        "id": "Pt8yr4coqc1w",
        "outputId": "7985210f-fe2f-4dd7-f8b8-3bf7acfa14b5",
        "colab": {
          "base_uri": "https://localhost:8080/",
          "height": 302
        }
      },
      "source": [
        "# Loading digits dataset from sklearn\n",
        "\n",
        "main_data = load_digits()\n",
        "\n",
        "plt.figure(figsize = (20, 20))\n",
        "\n",
        "for i in range(10):\n",
        "    plt.subplot(8, 8, i + 1)\n",
        "    plt.imshow(main_data.images[i])"
      ],
      "execution_count": 4,
      "outputs": [
        {
          "output_type": "display_data",
          "data": {
            "image/png": "[encoded data removed]",
            "text/plain": [
              "<Figure size 1440x1440 with 10 Axes>"
            ]
          },
          "metadata": {
            "needs_background": "light"
          }
        }
      ]
    },
    {
      "cell_type": "code",
      "metadata": {
        "id": "4HD1TuNvqgg-",
        "outputId": "c057593d-f237-429f-d232-c25d84bb2e29",
        "colab": {
          "base_uri": "https://localhost:8080/",
          "height": 302
        }
      },
      "source": [
        "# Loading digits dataset from sklearn\n",
        "\n",
        "main_data = load_digits()\n",
        "\n",
        "plt.figure(figsize = (20, 20))\n",
        "\n",
        "for i in range(10):\n",
        "    plt.subplot(8, 8, i + 1)\n",
        "    plt.imshow(main_data.images[i])"
      ],
      "execution_count": 5,
      "outputs": [
        {
          "output_type": "display_data",
          "data": {
            "image/png": "[encoded data removed]",
            "text/plain": [
              "<Figure size 1440x1440 with 10 Axes>"
            ]
          },
          "metadata": {
            "needs_background": "light"
          }
        }
      ]
    },
    {
      "cell_type": "code",
      "metadata": {
        "id": "BaofQXGErWm6"
      },
      "source": [
        "from sklearn.model_selection import train_test_split\n",
        "\n",
        "X_train, X_test, Y_train, Y_test = train_test_split(main_data.data, main_data.target, test_size = 0.20, random_state = 32)"
      ],
      "execution_count": 6,
      "outputs": []
    },
    {
      "cell_type": "code",
      "metadata": {
        "id": "MQjtTW_Mrbye",
        "outputId": "572eeff0-0495-4408-f440-5f477ccfa000",
        "colab": {
          "base_uri": "https://localhost:8080/"
        }
      },
      "source": [
        "# Gaussina models\n",
        "\n",
        "gnb = GaussianNB()\n",
        "\n",
        "# train model\n",
        "gnb.fit(X_train, Y_train)\n",
        "\n",
        "# training completed\n",
        "Y_predicted = gnb.predict(X_test)\n",
        "\n",
        "print(f\"Accuracy :- {metrics.accuracy_score(Y_test, Y_predicted)}\")\n"
      ],
      "execution_count": 7,
      "outputs": [
        {
          "output_type": "stream",
          "name": "stdout",
          "text": [
            "Accuracy :- 0.8222222222222222\n"
          ]
        }
      ]
    },
    {
      "cell_type": "code",
      "metadata": {
        "id": "8WHu3oaerfVJ",
        "outputId": "73e8fe89-9b04-4fd0-e9ae-12ada0d0dddd",
        "colab": {
          "base_uri": "https://localhost:8080/"
        }
      },
      "source": [
        "main_data.images[3]\n"
      ],
      "execution_count": 8,
      "outputs": [
        {
          "output_type": "execute_result",
          "data": {
            "text/plain": [
              "array([[ 0.,  0.,  7., 15., 13.,  1.,  0.,  0.],\n",
              "       [ 0.,  8., 13.,  6., 15.,  4.,  0.,  0.],\n",
              "       [ 0.,  2.,  1., 13., 13.,  0.,  0.,  0.],\n",
              "       [ 0.,  0.,  2., 15., 11.,  1.,  0.,  0.],\n",
              "       [ 0.,  0.,  0.,  1., 12., 12.,  1.,  0.],\n",
              "       [ 0.,  0.,  0.,  0.,  1., 10.,  8.,  0.],\n",
              "       [ 0.,  0.,  8.,  4.,  5., 14.,  9.,  0.],\n",
              "       [ 0.,  0.,  7., 13., 13.,  9.,  0.,  0.]])"
            ]
          },
          "metadata": {},
          "execution_count": 8
        }
      ]
    },
    {
      "cell_type": "code",
      "metadata": {
        "id": "7CYW4dbNriGI",
        "outputId": "e683f2b8-e218-461f-c94a-3ef314608d4f",
        "colab": {
          "base_uri": "https://localhost:8080/",
          "height": 168
        }
      },
      "source": [
        "_, axes = plt.subplots(nrows=1, ncols=4, figsize=(10, 3))\n",
        "for ax, image, prediction in zip(axes, X_test, Y_predicted):\n",
        "    ax.set_axis_off()\n",
        "    image = image.reshape(8, 8)\n",
        "    ax.imshow(image, cmap=plt.cm.gray_r, interpolation='nearest')\n",
        "    ax.set_title(f'Prediction: {prediction}')\n"
      ],
      "execution_count": 9,
      "outputs": [
        {
          "output_type": "display_data",
          "data": {
            "image/png": "[encoded data removed]",
            "text/plain": [
              "<Figure size 720x216 with 4 Axes>"
            ]
          },
          "metadata": {
            "needs_background": "light"
          }
        }
      ]
    },
    {
      "cell_type": "code",
      "metadata": {
        "id": "xW3ygi4YrlIF",
        "outputId": "331c59b0-15d1-41ef-a026-3c0682246028",
        "colab": {
          "base_uri": "https://localhost:8080/"
        }
      },
      "source": [
        "print(f\"Classification report for classifier {gnb}:\\n\"\n",
        "      f\"{metrics.classification_report(Y_test, Y_predicted)}\\n\")\n"
      ],
      "execution_count": 10,
      "outputs": [
        {
          "output_type": "stream",
          "name": "stdout",
          "text": [
            "Classification report for classifier GaussianNB(priors=None, var_smoothing=1e-09):\n",
            "              precision    recall  f1-score   support\n",
            "\n",
            "           0       1.00      0.95      0.97        38\n",
            "           1       0.90      0.72      0.80        36\n",
            "           2       1.00      0.50      0.67        32\n",
            "           3       0.78      0.88      0.82        56\n",
            "           4       1.00      0.81      0.89        31\n",
            "           5       0.87      0.92      0.89        36\n",
            "           6       0.92      1.00      0.96        34\n",
            "           7       0.74      1.00      0.85        34\n",
            "           8       0.51      0.81      0.63        27\n",
            "           9       0.78      0.58      0.67        36\n",
            "\n",
            "    accuracy                           0.82       360\n",
            "   macro avg       0.85      0.82      0.82       360\n",
            "weighted avg       0.85      0.82      0.82       360\n",
            "\n",
            "\n"
          ]
        }
      ]
    },
    {
      "cell_type": "code",
      "metadata": {
        "id": "5JgsIFYRrpd6",
        "outputId": "0e1ed257-1ef4-4634-f88d-e9ba60d17505",
        "colab": {
          "base_uri": "https://localhost:8080/",
          "height": 493
        }
      },
      "source": [
        "disp = metrics.plot_confusion_matrix(gnb, X_test, Y_test)\n",
        "disp.figure_.suptitle(\"Confusion Matrix\")\n",
        "print(f\"Confusion matrix:\\n{disp.confusion_matrix}\")\n",
        "\n",
        "plt.show()"
      ],
      "execution_count": 11,
      "outputs": [
        {
          "output_type": "stream",
          "name": "stdout",
          "text": [
            "Confusion matrix:\n",
            "[[36  0  0  0  0  2  0  0  0  0]\n",
            " [ 0 26  0  0  0  0  1  2  2  5]\n",
            " [ 0  1 16  3  0  0  0  0 12  0]\n",
            " [ 0  0  0 49  0  1  0  1  4  1]\n",
            " [ 0  0  0  0 25  1  2  1  2  0]\n",
            " [ 0  0  0  1  0 33  0  2  0  0]\n",
            " [ 0  0  0  0  0  0 34  0  0  0]\n",
            " [ 0  0  0  0  0  0  0 34  0  0]\n",
            " [ 0  2  0  0  0  1  0  2 22  0]\n",
            " [ 0  0  0 10  0  0  0  4  1 21]]\n"
          ]
        },
        {
          "output_type": "display_data",
          "data": {
            "image/png": "[encoded data removed]",
            "text/plain": [
              "<Figure size 432x288 with 2 Axes>"
            ]
          },
          "metadata": {
            "needs_background": "light"
          }
        }
      ]
    },
    {
      "cell_type": "code",
      "metadata": {
        "id": "oTKZLA6zrs7f"
      },
      "source": [
        ""
      ],
      "execution_count": null,
      "outputs": []
    }
  ]
}