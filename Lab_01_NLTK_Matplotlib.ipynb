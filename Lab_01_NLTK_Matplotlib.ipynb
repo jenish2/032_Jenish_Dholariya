{
  "nbformat": 4,
  "nbformat_minor": 0,
  "metadata": {
    "orig_nbformat": 4,
    "colab": {
      "name": "Lab_01_NLTK_Matplotlib.ipynb",
      "provenance": []
    },
    "language_info": {
      "name": "python"
    },
    "kernelspec": {
      "name": "python3",
      "display_name": "Python 3"
    }
  },
  "cells": [
    {
      "cell_type": "code",
      "metadata": {
        "id": "hkRlTZ90EDbD",
        "outputId": "e7c2f231-0d5d-455c-ba9d-b84e365a6a2f",
        "colab": {
          "base_uri": "https://localhost:8080/"
        }
      },
      "source": [
        "from google.colab import drive\n",
        "drive.mount(\"/content/drive\")"
      ],
      "execution_count": 1,
      "outputs": [
        {
          "output_type": "stream",
          "name": "stdout",
          "text": [
            "Mounted at /content/drive\n"
          ]
        }
      ]
    },
    {
      "cell_type": "code",
      "metadata": {
        "id": "iUCUwap7EDbF"
      },
      "source": [
        "import nltk\n",
        "import matplotlib.pyplot as plt\n",
        "import pandas as pd"
      ],
      "execution_count": 2,
      "outputs": []
    },
    {
      "cell_type": "code",
      "metadata": {
        "id": "s_eklq-nE8C8",
        "outputId": "a2553650-4479-440c-fdfc-4935f0736e9e",
        "colab": {
          "base_uri": "https://localhost:8080/"
        }
      },
      "source": [
        "random_text=\"\"\"I has transformed synthesized speech from the monotone of robocalls\n",
        " and decades-old GPS @navigation systems to the #polished tone of virtual assistants\n",
        "  in #smartphones and smart speakers.\"\"\"\n",
        "\n",
        "import re\n",
        "import string\n",
        "from nltk.corpus import stopwords\n",
        "from nltk.stem import PorterStemmer\n",
        "from nltk.tokenize import TweetTokenizer\n",
        "remove_link_text = re.sub(r'https?:\\/\\/.*[\\r\\n]','',random_text)\n",
        "remove_link_text= re.sub(r'#','',remove_link_text)\n",
        "print(remove_link_text)"
      ],
      "execution_count": 3,
      "outputs": [
        {
          "output_type": "stream",
          "name": "stdout",
          "text": [
            "I has transformed synthesized speech from the monotone of robocalls\n",
            " and decades-old GPS @navigation systems to the polished tone of virtual assistants\n",
            "  in smartphones and smart speakers.\n"
          ]
        }
      ]
    },
    {
      "cell_type": "code",
      "metadata": {
        "id": "YUX9Lsx2cMlL",
        "outputId": "7f4ede21-9f8f-4127-9ddd-07a2f9be4499",
        "colab": {
          "base_uri": "https://localhost:8080/"
        }
      },
      "source": [
        "print('\\033[92m'+ random_text)\n",
        "print('\\033[92m'+ remove_link_text)"
      ],
      "execution_count": 4,
      "outputs": [
        {
          "output_type": "stream",
          "name": "stdout",
          "text": [
            "\u001b[92mI has transformed synthesized speech from the monotone of robocalls\n",
            " and decades-old GPS @navigation systems to the #polished tone of virtual assistants\n",
            "  in #smartphones and smart speakers.\n",
            "\u001b[92mI has transformed synthesized speech from the monotone of robocalls\n",
            " and decades-old GPS @navigation systems to the polished tone of virtual assistants\n",
            "  in smartphones and smart speakers.\n"
          ]
        }
      ]
    },
    {
      "cell_type": "code",
      "metadata": {
        "id": "yq_jpF05dKM7",
        "outputId": "ac7ea527-fe1e-435b-ff9a-a35003d9c522",
        "colab": {
          "base_uri": "https://localhost:8080/"
        }
      },
      "source": [
        "from nltk.tokenize import sent_tokenize\n",
        "text=\"\"\" Lorem Ipsum is simply dummy text of the printing and typesetting \n",
        "industry. Lorem Ipsum has been the industry's standard dummy text ever since\n",
        " the 1500s, when an unknown printer took a galley of type and scrambled it to\n",
        "  make a type specimen book. It has survived not only five centuries, but also \n",
        "  the leap into electronic typesetting, remaining essentially unchanged.\"\"\"\n",
        "nltk.download(\"punkt\")\n",
        "tokenized_text=sent_tokenize(text)\n",
        "print(tokenized_text)"
      ],
      "execution_count": 7,
      "outputs": [
        {
          "output_type": "stream",
          "name": "stdout",
          "text": [
            "[nltk_data] Downloading package punkt to /root/nltk_data...\n",
            "[nltk_data]   Unzipping tokenizers/punkt.zip.\n",
            "[' Lorem Ipsum is simply dummy text of the printing and typesetting \\nindustry.', \"Lorem Ipsum has been the industry's standard dummy text ever since\\n the 1500s, when an unknown printer took a galley of type and scrambled it to\\n  make a type specimen book.\", 'It has survived not only five centuries, but also \\n  the leap into electronic typesetting, remaining essentially unchanged.']\n"
          ]
        }
      ]
    },
    {
      "cell_type": "code",
      "metadata": {
        "id": "zogOoQCJeCmz",
        "outputId": "97a889aa-d172-49c7-c551-64fb4f4a0b4f",
        "colab": {
          "base_uri": "https://localhost:8080/"
        }
      },
      "source": [
        "from nltk.tokenize import word_tokenize\n",
        "tokenized_word=word_tokenize(text)\n",
        "print(tokenized_word)\n",
        "# breaks paregraph into words"
      ],
      "execution_count": 8,
      "outputs": [
        {
          "output_type": "stream",
          "name": "stdout",
          "text": [
            "['Lorem', 'Ipsum', 'is', 'simply', 'dummy', 'text', 'of', 'the', 'printing', 'and', 'typesetting', 'industry', '.', 'Lorem', 'Ipsum', 'has', 'been', 'the', 'industry', \"'s\", 'standard', 'dummy', 'text', 'ever', 'since', 'the', '1500s', ',', 'when', 'an', 'unknown', 'printer', 'took', 'a', 'galley', 'of', 'type', 'and', 'scrambled', 'it', 'to', 'make', 'a', 'type', 'specimen', 'book', '.', 'It', 'has', 'survived', 'not', 'only', 'five', 'centuries', ',', 'but', 'also', 'the', 'leap', 'into', 'electronic', 'typesetting', ',', 'remaining', 'essentially', 'unchanged', '.']\n"
          ]
        }
      ]
    },
    {
      "cell_type": "code",
      "metadata": {
        "id": "zAU82pBtexcr",
        "outputId": "01114579-476e-4d29-80f7-bf56da662f76",
        "colab": {
          "base_uri": "https://localhost:8080/",
          "height": 326
        }
      },
      "source": [
        "# frequency distribution\n",
        "from nltk.probability import FreqDist\n",
        "fdist = FreqDist(tokenized_word)\n",
        "fdist.most_common(4)\n",
        "# Frequency Distribution Plot\n",
        "import matplotlib.pyplot as plt\n",
        "fdist.plot(30, cumulative = False, color = \"green\")\n",
        "plt.show()"
      ],
      "execution_count": 10,
      "outputs": [
        {
          "output_type": "display_data",
          "data": {
            "image/png": "[encoded data removed]",
            "text/plain": [
              "<Figure size 432x288 with 1 Axes>"
            ]
          },
          "metadata": {
            "needs_background": "light"
          }
        }
      ]
    },
    {
      "cell_type": "code",
      "metadata": {
        "id": "ZDl2Gpl-fFuN",
        "outputId": "69b70585-e78c-4182-a040-6aa8a96b15c1",
        "colab": {
          "base_uri": "https://localhost:8080/"
        }
      },
      "source": [
        "# stop words\n",
        "from nltk.corpus import stopwords\n",
        "# download stopwords\n",
        "nltk.download(\"stopwords\")\n",
        "stop_words = set(stopwords.words(\"english\"))\n",
        "print(stop_words)"
      ],
      "execution_count": 11,
      "outputs": [
        {
          "output_type": "stream",
          "name": "stdout",
          "text": [
            "[nltk_data] Downloading package stopwords to /root/nltk_data...\n",
            "[nltk_data]   Unzipping corpora/stopwords.zip.\n",
            "{'are', 'weren', 'your', 'these', 'ourselves', 'his', 'at', 'will', 'did', \"you'd\", 'herself', 'here', 'themselves', 'you', \"it's\", 'ours', 'by', 't', 'their', \"didn't\", 'during', 'until', 'of', 'had', 'hers', 'too', 'each', 'where', 'her', 'they', 'under', 'was', 'there', 'to', 'couldn', 'few', 'o', 'i', 'same', 'just', 'nor', 'it', 'through', 'or', \"isn't\", \"hasn't\", 'out', 'whom', \"aren't\", 'll', 'again', 'doing', \"haven't\", 'own', \"shouldn't\", 'over', 'wasn', 'no', 'theirs', 'has', \"you'll\", 'with', 'both', 's', 'our', 'than', 'yourself', \"doesn't\", 'such', 'be', 'yours', \"couldn't\", \"that'll\", 'on', \"shan't\", 'about', 'those', 'have', 'more', 'ma', 'any', 're', 'been', 'which', 'and', 'after', \"don't\", 'into', 'once', 'not', \"won't\", 'she', 'wouldn', 'now', 'won', 'm', 'hasn', 'haven', 'because', 'up', 'd', 've', 'aren', 'am', \"she's\", \"mightn't\", 'hadn', \"mustn't\", 'my', 'is', 'does', 'its', 'further', \"should've\", 'who', 'that', 'before', 'for', 'in', 'didn', \"wasn't\", 'some', \"you're\", 'itself', 'then', 'below', 'an', 'isn', 'against', \"needn't\", 'only', 'do', \"wouldn't\", 'he', 'when', 'yourselves', 'if', 'this', 'we', 'other', 'y', 'me', 'can', 'him', 'ain', 'while', \"you've\", 'but', 'mightn', 'the', 'were', 'from', 'shan', \"weren't\", 'above', 'how', 'don', 'mustn', 'should', 'them', 'a', 'as', 'down', 'very', 'shouldn', 'all', \"hadn't\", 'most', 'why', 'having', 'off', 'so', 'between', 'needn', 'myself', 'doesn', 'what', 'himself', 'being'}\n"
          ]
        }
      ]
    },
    {
      "cell_type": "code",
      "metadata": {
        "id": "zHXdpX0kfIm6",
        "outputId": "d1f06442-814f-4a87-d629-bbba07ba038d",
        "colab": {
          "base_uri": "https://localhost:8080/"
        }
      },
      "source": [
        "filtered_sent=[]\n",
        "for w in tokenized_word:\n",
        "    if w not in stop_words:\n",
        "        filtered_sent.append(w)\n",
        "print(\"Tokenized Sentence:\",tokenized_word)\n",
        "print(\"Filterd Sentence:\",filtered_sent)"
      ],
      "execution_count": 13,
      "outputs": [
        {
          "output_type": "stream",
          "name": "stdout",
          "text": [
            "Tokenized Sentence: ['Lorem', 'Ipsum', 'is', 'simply', 'dummy', 'text', 'of', 'the', 'printing', 'and', 'typesetting', 'industry', '.', 'Lorem', 'Ipsum', 'has', 'been', 'the', 'industry', \"'s\", 'standard', 'dummy', 'text', 'ever', 'since', 'the', '1500s', ',', 'when', 'an', 'unknown', 'printer', 'took', 'a', 'galley', 'of', 'type', 'and', 'scrambled', 'it', 'to', 'make', 'a', 'type', 'specimen', 'book', '.', 'It', 'has', 'survived', 'not', 'only', 'five', 'centuries', ',', 'but', 'also', 'the', 'leap', 'into', 'electronic', 'typesetting', ',', 'remaining', 'essentially', 'unchanged', '.']\n",
            "Filterd Sentence: ['Lorem', 'Ipsum', 'simply', 'dummy', 'text', 'printing', 'typesetting', 'industry', '.', 'Lorem', 'Ipsum', 'industry', \"'s\", 'standard', 'dummy', 'text', 'ever', 'since', '1500s', ',', 'unknown', 'printer', 'took', 'galley', 'type', 'scrambled', 'make', 'type', 'specimen', 'book', '.', 'It', 'survived', 'five', 'centuries', ',', 'also', 'leap', 'electronic', 'typesetting', ',', 'remaining', 'essentially', 'unchanged', '.']\n"
          ]
        }
      ]
    },
    {
      "cell_type": "code",
      "metadata": {
        "id": "f2d2VtpufQtz",
        "outputId": "cfb1411e-8f87-4844-b8a5-b9da5b84b3d0",
        "colab": {
          "base_uri": "https://localhost:8080/"
        }
      },
      "source": [
        "# stemming\n",
        "from nltk.stem import PorterStemmer\n",
        "from nltk.tokenize import sent_tokenize, word_tokenize\n",
        "\n",
        "ps = PorterStemmer()\n",
        "\n",
        "stemmed_words=[]\n",
        "for w in filtered_sent:\n",
        "    stemmed_words.append(ps.stem(w))\n",
        "\n",
        "print(\"Filtered Sentence:\",filtered_sent)\n",
        "print(\"Stemmed Sentence:\",stemmed_words)"
      ],
      "execution_count": 14,
      "outputs": [
        {
          "output_type": "stream",
          "name": "stdout",
          "text": [
            "Filtered Sentence: ['Lorem', 'Ipsum', 'simply', 'dummy', 'text', 'printing', 'typesetting', 'industry', '.', 'Lorem', 'Ipsum', 'industry', \"'s\", 'standard', 'dummy', 'text', 'ever', 'since', '1500s', ',', 'unknown', 'printer', 'took', 'galley', 'type', 'scrambled', 'make', 'type', 'specimen', 'book', '.', 'It', 'survived', 'five', 'centuries', ',', 'also', 'leap', 'electronic', 'typesetting', ',', 'remaining', 'essentially', 'unchanged', '.']\n",
            "Stemmed Sentence: ['lorem', 'ipsum', 'simpli', 'dummi', 'text', 'print', 'typeset', 'industri', '.', 'lorem', 'ipsum', 'industri', \"'s\", 'standard', 'dummi', 'text', 'ever', 'sinc', '1500', ',', 'unknown', 'printer', 'took', 'galley', 'type', 'scrambl', 'make', 'type', 'specimen', 'book', '.', 'It', 'surviv', 'five', 'centuri', ',', 'also', 'leap', 'electron', 'typeset', ',', 'remain', 'essenti', 'unchang', '.']\n"
          ]
        }
      ]
    },
    {
      "cell_type": "code",
      "metadata": {
        "id": "JFtIEST4fSlq",
        "outputId": "dabd836d-accb-4421-81b5-2d32b7fbf79c",
        "colab": {
          "base_uri": "https://localhost:8080/"
        }
      },
      "source": [
        "#Lexicon Normalization\n",
        "#performing stemming and Lemmatization\n",
        "\n",
        "from nltk.stem.wordnet import WordNetLemmatizer\n",
        "nltk.download('wordnet')\n",
        "lem = WordNetLemmatizer()\n",
        "\n",
        "from nltk.stem.porter import PorterStemmer\n",
        "stem = PorterStemmer()\n",
        "\n",
        "word = \"flying\"\n",
        "print(\"Lemmatized Word:\",lem.lemmatize(word,\"v\"))\n",
        "print(\"Stemmed Word:\",stem.stem(word))"
      ],
      "execution_count": 15,
      "outputs": [
        {
          "output_type": "stream",
          "name": "stdout",
          "text": [
            "[nltk_data] Downloading package wordnet to /root/nltk_data...\n",
            "[nltk_data]   Unzipping corpora/wordnet.zip.\n",
            "Lemmatized Word: fly\n",
            "Stemmed Word: fli\n"
          ]
        }
      ]
    }
  ]
}