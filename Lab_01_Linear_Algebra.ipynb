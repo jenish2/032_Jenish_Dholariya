{
  "nbformat": 4,
  "nbformat_minor": 0,
  "metadata": {
    "colab": {
      "name": "Lab_01_Linear_Algebra.ipynb",
      "provenance": [],
      "authorship_tag": "ABX9TyMTh7jtBfvCOzrvkv5kdCYO",
      "include_colab_link": true
    },
    "kernelspec": {
      "name": "python3",
      "display_name": "Python 3"
    },
    "language_info": {
      "name": "python"
    }
  },
  "cells": [
    {
      "cell_type": "markdown",
      "metadata": {
        "id": "view-in-github",
        "colab_type": "text"
      },
      "source": [
        "<a href=\"https://colab.research.google.com/github/jenish2/032_Jenish_Dholariya/blob/main/Lab_01_Linear_Algebra.ipynb\" target=\"_parent\"><img src=\"https://colab.research.google.com/assets/colab-badge.svg\" alt=\"Open In Colab\"/></a>"
      ]
    },
    {
      "cell_type": "code",
      "metadata": {
        "id": "k7TQDbv5jZQ3",
        "outputId": "60981d6f-9ddb-4dcf-95e6-028a99cb672e",
        "colab": {
          "base_uri": "https://localhost:8080/"
        }
      },
      "source": [
        "from google.colab import drive\n",
        "drive.mount(\"/content/drive\")"
      ],
      "execution_count": 1,
      "outputs": [
        {
          "output_type": "stream",
          "name": "stdout",
          "text": [
            "Mounted at /content/drive\n"
          ]
        }
      ]
    },
    {
      "cell_type": "code",
      "metadata": {
        "id": "5obUKLC54o5n"
      },
      "source": [
        "import numpy as np\n",
        "import pandas as pd"
      ],
      "execution_count": 2,
      "outputs": []
    },
    {
      "cell_type": "code",
      "metadata": {
        "id": "pSQ9oBsH4wD5",
        "outputId": "4840dbcb-5398-45e0-d86b-ca96c211659f",
        "colab": {
          "base_uri": "https://localhost:8080/"
        }
      },
      "source": [
        "# two matrics\n",
        "array1 = np.array([[4, 8, 1],[8, 7, 4]])\n",
        "array2 = np.array([[5,-9],[1, 4],[7, -3]])\n",
        "print(array1)\n",
        "print(array2)"
      ],
      "execution_count": 4,
      "outputs": [
        {
          "output_type": "stream",
          "name": "stdout",
          "text": [
            "[[4 8 1]\n",
            " [8 7 4]]\n",
            "[[ 5 -9]\n",
            " [ 1  4]\n",
            " [ 7 -3]]\n"
          ]
        }
      ]
    },
    {
      "cell_type": "code",
      "metadata": {
        "id": "nXUGxmPu436v",
        "outputId": "79a56a25-0f3e-4603-9fde-af0d889550d4",
        "colab": {
          "base_uri": "https://localhost:8080/"
        }
      },
      "source": [
        "#randomly initialize array\n",
        "array = np.random.rand(3, 4)\n",
        "print(array)"
      ],
      "execution_count": 6,
      "outputs": [
        {
          "output_type": "stream",
          "name": "stdout",
          "text": [
            "[[0.015106   0.33958534 0.19588285 0.06523707]\n",
            " [0.3625899  0.42672001 0.30918921 0.82174373]\n",
            " [0.9070511  0.87537734 0.22164099 0.88723292]]\n"
          ]
        }
      ]
    },
    {
      "cell_type": "code",
      "metadata": {
        "id": "PJnjKaaO5QLq",
        "outputId": "2f370652-5d01-4599-83ef-000a869e2308",
        "colab": {
          "base_uri": "https://localhost:8080/"
        }
      },
      "source": [
        "# perform matrix multiplication\n",
        "mul = np.dot(array1, array2)\n",
        "print(mul)"
      ],
      "execution_count": 7,
      "outputs": [
        {
          "output_type": "stream",
          "name": "stdout",
          "text": [
            "[[ 35  -7]\n",
            " [ 75 -56]]\n"
          ]
        }
      ]
    },
    {
      "cell_type": "code",
      "metadata": {
        "id": "FfQLYi-45T5w",
        "outputId": "df438f3b-52b9-487a-80db-75bda7b3ff11",
        "colab": {
          "base_uri": "https://localhost:8080/"
        }
      },
      "source": [
        "# perform element wise matrix multiplication\n",
        "res = [[0 for x in range(len(array1))] for y in range(len(array2[0]))]\n",
        "\n",
        "for i in range(len(array1)): \n",
        "  for j in range(len(array2[0])): \n",
        "    for k in range(len(array2)): \n",
        "      res[i][j] += array1[i][k] * array2[k][j]\n",
        " \n",
        "print (res)"
      ],
      "execution_count": 8,
      "outputs": [
        {
          "output_type": "stream",
          "name": "stdout",
          "text": [
            "[[35, -7], [75, -56]]\n"
          ]
        }
      ]
    },
    {
      "cell_type": "code",
      "metadata": {
        "id": "qNvN9V5Q5Zbp",
        "outputId": "1e523942-ab2c-46f8-a417-3f3050e5a566",
        "colab": {
          "base_uri": "https://localhost:8080/"
        }
      },
      "source": [
        "# mean of first matrix\n",
        "mean = np.mean(array1)\n",
        "print(mean)"
      ],
      "execution_count": 9,
      "outputs": [
        {
          "output_type": "stream",
          "name": "stdout",
          "text": [
            "5.333333333333333\n"
          ]
        }
      ]
    },
    {
      "cell_type": "code",
      "metadata": {
        "id": "6K1wWvNp5cC3"
      },
      "source": [
        "main_data= pd.read_csv(\"/content/drive/MyDrive/Semester7/ML/Lab01/Exercise-CarData.csv\")"
      ],
      "execution_count": 10,
      "outputs": []
    }
  ]
}