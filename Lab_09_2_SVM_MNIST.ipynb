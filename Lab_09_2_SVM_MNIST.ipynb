{
  "nbformat": 4,
  "nbformat_minor": 0,
  "metadata": {
    "colab": {
      "name": "Lab_09_2_SVM_MNIST.ipynb",
      "provenance": [],
      "collapsed_sections": [],
      "include_colab_link": true
    },
    "kernelspec": {
      "name": "python3",
      "display_name": "Python 3"
    },
    "language_info": {
      "name": "python"
    }
  },
  "cells": [
    {
      "cell_type": "markdown",
      "metadata": {
        "id": "view-in-github",
        "colab_type": "text"
      },
      "source": [
        "<a href=\"https://colab.research.google.com/github/jenish2/032_Jenish_Dholariya/blob/main/Lab_09_2_SVM_MNIST.ipynb\" target=\"_parent\"><img src=\"https://colab.research.google.com/assets/colab-badge.svg\" alt=\"Open In Colab\"/></a>"
      ]
    },
    {
      "cell_type": "markdown",
      "metadata": {
        "id": "MyUaa2RkuxWf"
      },
      "source": [
        "### SVM classifier on MNIST dataset, compare the preformance of linear, polynomial and RBF kernels."
      ]
    },
    {
      "cell_type": "code",
      "metadata": {
        "id": "n0tKI68bu0C1"
      },
      "source": [
        "import sys, os\n",
        "import numpy as np\n",
        "import matplotlib.pyplot as plt\n",
        "from sklearn import svm, metrics\n",
        "from sklearn.model_selection import train_test_split\n",
        "from sklearn.datasets import load_digits"
      ],
      "execution_count": 1,
      "outputs": []
    },
    {
      "cell_type": "code",
      "metadata": {
        "id": "PfAc2UP0u88H"
      },
      "source": [
        "digits = load_digits()"
      ],
      "execution_count": 2,
      "outputs": []
    },
    {
      "cell_type": "code",
      "metadata": {
        "colab": {
          "base_uri": "https://localhost:8080/"
        },
        "id": "XU6TTKPA7cDe",
        "outputId": "744c0b99-4c78-4375-8ce3-1dfa172f9a1e"
      },
      "source": [
        "digits.data.shape"
      ],
      "execution_count": 3,
      "outputs": [
        {
          "output_type": "execute_result",
          "data": {
            "text/plain": [
              "(1797, 64)"
            ]
          },
          "metadata": {},
          "execution_count": 3
        }
      ]
    },
    {
      "cell_type": "code",
      "metadata": {
        "colab": {
          "base_uri": "https://localhost:8080/"
        },
        "id": "VJJQaXpP7jPm",
        "outputId": "d228f34e-f3f9-4c33-b23b-98eb455f8c66"
      },
      "source": [
        "print(digits.target)"
      ],
      "execution_count": 4,
      "outputs": [
        {
          "output_type": "stream",
          "name": "stdout",
          "text": [
            "[0 1 2 ... 8 9 8]\n"
          ]
        }
      ]
    },
    {
      "cell_type": "code",
      "metadata": {
        "id": "afTnZQvd0E8U"
      },
      "source": [
        "X_train, X_test, y_train, y_test = train_test_split(digits.data, digits.target, test_size = 0.3 ,random_state = 12)"
      ],
      "execution_count": 5,
      "outputs": []
    },
    {
      "cell_type": "markdown",
      "metadata": {
        "id": "FSWscihevO6X"
      },
      "source": [
        "####Linear SVM Classifier"
      ]
    },
    {
      "cell_type": "code",
      "metadata": {
        "id": "_dN5oHZsvnZd"
      },
      "source": [
        "lsc = svm.SVC(kernel='linear')"
      ],
      "execution_count": 6,
      "outputs": []
    },
    {
      "cell_type": "code",
      "metadata": {
        "colab": {
          "base_uri": "https://localhost:8080/"
        },
        "id": "gI_WpPJ2v6Fw",
        "outputId": "2ea03d46-6638-4b3f-93d6-5df50b42589b"
      },
      "source": [
        "lsc.fit(X_train, y_train)"
      ],
      "execution_count": 7,
      "outputs": [
        {
          "output_type": "execute_result",
          "data": {
            "text/plain": [
              "SVC(C=1.0, break_ties=False, cache_size=200, class_weight=None, coef0=0.0,\n",
              "    decision_function_shape='ovr', degree=3, gamma='scale', kernel='linear',\n",
              "    max_iter=-1, probability=False, random_state=None, shrinking=True,\n",
              "    tol=0.001, verbose=False)"
            ]
          },
          "metadata": {},
          "execution_count": 7
        }
      ]
    },
    {
      "cell_type": "code",
      "metadata": {
        "id": "re8aGYinv-T2"
      },
      "source": [
        "lin_y_pred = lsc.predict(X_test)"
      ],
      "execution_count": 8,
      "outputs": []
    },
    {
      "cell_type": "code",
      "metadata": {
        "colab": {
          "base_uri": "https://localhost:8080/"
        },
        "id": "xgj0-pcRwaiW",
        "outputId": "1a25e987-a9d6-45c7-cfbe-711d3872fa75"
      },
      "source": [
        "print(\"Accuracy:\", metrics.accuracy_score(y_test, lin_y_pred))"
      ],
      "execution_count": 9,
      "outputs": [
        {
          "output_type": "stream",
          "name": "stdout",
          "text": [
            "Accuracy: 0.9814814814814815\n"
          ]
        }
      ]
    },
    {
      "cell_type": "markdown",
      "metadata": {
        "id": "FerdXPYavjJu"
      },
      "source": [
        "####RBF SVM Classifier"
      ]
    },
    {
      "cell_type": "code",
      "metadata": {
        "id": "UYbWYEMPwiJO"
      },
      "source": [
        "rbf_svm = svm.SVC(kernel='rbf')"
      ],
      "execution_count": 10,
      "outputs": []
    },
    {
      "cell_type": "code",
      "metadata": {
        "colab": {
          "base_uri": "https://localhost:8080/"
        },
        "id": "N-i_hMBIwiNv",
        "outputId": "f8049a34-546d-48fa-d193-e3f54804ea67"
      },
      "source": [
        "rbf_svm.fit(X_train, y_train)"
      ],
      "execution_count": 11,
      "outputs": [
        {
          "output_type": "execute_result",
          "data": {
            "text/plain": [
              "SVC(C=1.0, break_ties=False, cache_size=200, class_weight=None, coef0=0.0,\n",
              "    decision_function_shape='ovr', degree=3, gamma='scale', kernel='rbf',\n",
              "    max_iter=-1, probability=False, random_state=None, shrinking=True,\n",
              "    tol=0.001, verbose=False)"
            ]
          },
          "metadata": {},
          "execution_count": 11
        }
      ]
    },
    {
      "cell_type": "code",
      "metadata": {
        "id": "MCWfqLmEwiSm"
      },
      "source": [
        "rbf_y_pred = rbf_svm.predict(X_test)"
      ],
      "execution_count": 12,
      "outputs": []
    },
    {
      "cell_type": "code",
      "metadata": {
        "colab": {
          "base_uri": "https://localhost:8080/"
        },
        "id": "BKssGu2OwiYm",
        "outputId": "fb64b10e-4719-4503-b5af-459978eebab9"
      },
      "source": [
        "print(\"Accuracy:\", metrics.accuracy_score(y_test, rbf_y_pred))"
      ],
      "execution_count": 13,
      "outputs": [
        {
          "output_type": "stream",
          "name": "stdout",
          "text": [
            "Accuracy: 0.9851851851851852\n"
          ]
        }
      ]
    },
    {
      "cell_type": "markdown",
      "metadata": {
        "id": "1IEzVTT1vbou"
      },
      "source": [
        "####Polynominal SVM Classifier"
      ]
    },
    {
      "cell_type": "code",
      "metadata": {
        "id": "BMJKEky6wg3-"
      },
      "source": [
        "p_svm = svm.SVC(kernel='poly')"
      ],
      "execution_count": 14,
      "outputs": []
    },
    {
      "cell_type": "code",
      "metadata": {
        "colab": {
          "base_uri": "https://localhost:8080/"
        },
        "id": "jrbk49WHwhEt",
        "outputId": "7f0de04d-0238-46f6-eff2-0e47e5a1024a"
      },
      "source": [
        "p_svm.fit(X_train, y_train)"
      ],
      "execution_count": 15,
      "outputs": [
        {
          "output_type": "execute_result",
          "data": {
            "text/plain": [
              "SVC(C=1.0, break_ties=False, cache_size=200, class_weight=None, coef0=0.0,\n",
              "    decision_function_shape='ovr', degree=3, gamma='scale', kernel='poly',\n",
              "    max_iter=-1, probability=False, random_state=None, shrinking=True,\n",
              "    tol=0.001, verbose=False)"
            ]
          },
          "metadata": {},
          "execution_count": 15
        }
      ]
    },
    {
      "cell_type": "code",
      "metadata": {
        "id": "wjfMA-u-whN1"
      },
      "source": [
        "poly_y_pred = p_svm.predict(X_test)"
      ],
      "execution_count": 16,
      "outputs": []
    },
    {
      "cell_type": "code",
      "metadata": {
        "colab": {
          "base_uri": "https://localhost:8080/"
        },
        "id": "ALwwZ6nMwhUV",
        "outputId": "79eea7f8-e6a8-49ca-cb99-8a98a7c539fb"
      },
      "source": [
        "print(\"Accuracy:\", metrics.accuracy_score(y_test, poly_y_pred))"
      ],
      "execution_count": 17,
      "outputs": [
        {
          "output_type": "stream",
          "name": "stdout",
          "text": [
            "Accuracy: 0.9925925925925926\n"
          ]
        }
      ]
    },
    {
      "cell_type": "code",
      "metadata": {
        "id": "i04ZC6hXb59C"
      },
      "source": [
        ""
      ],
      "execution_count": 17,
      "outputs": []
    }
  ]
}